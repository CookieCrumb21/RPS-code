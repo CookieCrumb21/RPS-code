{
  "nbformat": 4,
  "nbformat_minor": 0,
  "metadata": {
    "colab": {
      "provenance": [],
      "authorship_tag": "ABX9TyP49SSLRCmhoz0W+pKOrY/q",
      "include_colab_link": true
    },
    "kernelspec": {
      "name": "python3",
      "display_name": "Python 3"
    },
    "language_info": {
      "name": "python"
    }
  },
  "cells": [
    {
      "cell_type": "markdown",
      "metadata": {
        "id": "view-in-github",
        "colab_type": "text"
      },
      "source": [
        "<a href=\"https://colab.research.google.com/github/CookieCrumb21/test/blob/main/rockPaperScissorsbot.ipynb\" target=\"_parent\"><img src=\"https://colab.research.google.com/assets/colab-badge.svg\" alt=\"Open In Colab\"/></a>"
      ]
    },
    {
      "cell_type": "markdown",
      "source": [
        "# **Rock-Paper-Scissors Game**\n",
        "\n",
        "\n",
        "In this code the Computer can choose from 3 variables 'r', 'p', 's' denoting rock, paper, scissors respectively. You play a best out of 7 series with the computer."
      ],
      "metadata": {
        "id": "mohqR7i0s0xh"
      }
    },
    {
      "cell_type": "code",
      "execution_count": null,
      "metadata": {
        "id": "wSdSaOKpsspY"
      },
      "outputs": [],
      "source": [
        "import random\n",
        "import math\n",
        "\n",
        "def play():\n",
        "    user = input(\"What's your choice? 'r' for rock, 'p' for paper, 's' for scissors\\n\")\n",
        "    user = user.lower()\n",
        "\n",
        "    computer = random.choice(['r', 'p', 's'])\n",
        "\n",
        "    if user == computer:\n",
        "        return (0, user, computer)\n",
        "\n",
        "    # r > s, s > p, p > r\n",
        "    if is_win(user, computer):\n",
        "        return (1, user, computer)\n",
        "\n",
        "    return (-1, user, computer)\n",
        "\n",
        "\n",
        "\n",
        "def is_win(player, opponent):\n",
        "    # return true if player beats the opponent\n",
        "    # winning conditions are: r > s ; s > p ; p > r\n",
        "    if (player == 'r' and opponent == 's') or (player == 's' and opponent == 'p') or (player == 'p' and opponent == 'r'):\n",
        "        return True\n",
        "    return False\n",
        "\n",
        "\n",
        "\n",
        "def play_best_of(n):\n",
        "    # play against the computer until someone wins best of n games\n",
        "    # to win, you must win ceil(n/2) games (ie 2/3, 3/5, 4/7)\n",
        "    # math.ceil() rounds up a decimal value to the nearest integer\n",
        "    player_wins = 0\n",
        "    computer_wins = 0\n",
        "    wins_necessary = math.ceil(n/2)\n",
        "    while player_wins < wins_necessary and computer_wins < wins_necessary:\n",
        "        result, user, computer = play()\n",
        "        # if tie\n",
        "        if result == 0:\n",
        "            print('It is a tie. You and the computer have both chosen {}. \\n'.format(user))\n",
        "        # you win\n",
        "        elif result == 1:\n",
        "            player_wins += 1\n",
        "            print('You chose {} and the computer chose {}. You won!\\n'.format(user, computer))\n",
        "        else:\n",
        "            computer_wins += 1\n",
        "            print('You chose {} and the computer chose {}. You lost\\n'.format(user, computer))\n",
        "\n",
        "\n",
        "\n",
        "    if player_wins > computer_wins:\n",
        "        print('You have won the best of {} games'.format(n))\n",
        "    else:\n",
        "        print('Unfortunately, the computer has won the best of {} games'.format(n))\n",
        "\n",
        "\n",
        "if __name__ == '__main__':\n",
        "    play_best_of(7)"
      ]
    }
  ]
}